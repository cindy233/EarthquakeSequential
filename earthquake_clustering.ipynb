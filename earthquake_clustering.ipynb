{
 "cells": [
  {
   "cell_type": "code",
   "execution_count": 2,
   "metadata": {
    "collapsed": false
   },
   "outputs": [],
   "source": [
    "#data source: http://www.ncedc.org/ncedc/catalog-search.html\n",
    "#DateTime,Latitude,Longitude,Depth,Magnitude,MagType,NbStations,Gap,Distance,RMS,Source,EventID"
   ]
  },
  {
   "cell_type": "code",
   "execution_count": 1,
   "metadata": {
    "collapsed": true
   },
   "outputs": [],
   "source": [
    "import numpy as np"
   ]
  },
  {
   "cell_type": "code",
   "execution_count": 2,
   "metadata": {
    "collapsed": true
   },
   "outputs": [],
   "source": [
    "points = []\n",
    "depths = []\n",
    "mags = []\n",
    "datetimes = []\n",
    "latitudes = []\n",
    "longitudes = []"
   ]
  },
  {
   "cell_type": "code",
   "execution_count": 3,
   "metadata": {
    "collapsed": true
   },
   "outputs": [],
   "source": [
    "file = open('catsearch.csv', 'r')"
   ]
  },
  {
   "cell_type": "code",
   "execution_count": 4,
   "metadata": {
    "collapsed": false
   },
   "outputs": [],
   "source": [
    "firstline = True\n",
    "for line in file:\n",
    "    if firstline:    #skip first line\n",
    "        firstline = False\n",
    "        continue\n",
    "    data = line.strip().split(',')\n",
    "    datetime = str(data[0])\n",
    "    datetimes.append(datetime)\n",
    "    point = (float (data[1]), float(data[2]))\n",
    "    points.append(point)\n",
    "    latitude = float (data[1])\n",
    "    latitudes.append(latitude)\n",
    "    longitude = float (data[2])\n",
    "    longitudes.append(longitude)\n",
    "    mag = float(data[4])\n",
    "    mags.append(mag)\n",
    "\n",
    "points = np.asarray(points)\n",
    "mags = np.asarray(mags)\n",
    "datetimes = np.asarray(datetimes)\n",
    "latitudes = np.asarray(latitudes)\n",
    "longitudes = np.asarray(longitudes)"
   ]
  },
  {
   "cell_type": "code",
   "execution_count": 5,
   "metadata": {
    "collapsed": true
   },
   "outputs": [],
   "source": [
    "from sklearn import cluster"
   ]
  },
  {
   "cell_type": "code",
   "execution_count": 6,
   "metadata": {
    "collapsed": true
   },
   "outputs": [],
   "source": [
    "n_class = 10"
   ]
  },
  {
   "cell_type": "code",
   "execution_count": 7,
   "metadata": {
    "collapsed": true
   },
   "outputs": [],
   "source": [
    "k_means_pp = cluster.KMeans(init = 'k-means++', n_clusters = n_class, n_init = 3)"
   ]
  },
  {
   "cell_type": "code",
   "execution_count": 8,
   "metadata": {
    "collapsed": false
   },
   "outputs": [
    {
     "data": {
      "text/plain": [
       "KMeans(copy_x=True, init='k-means++', max_iter=300, n_clusters=10, n_init=3,\n",
       "    n_jobs=1, precompute_distances='auto', random_state=None, tol=0.0001,\n",
       "    verbose=0)"
      ]
     },
     "execution_count": 8,
     "metadata": {},
     "output_type": "execute_result"
    }
   ],
   "source": [
    "k_means_pp.fit(points)"
   ]
  },
  {
   "cell_type": "code",
   "execution_count": 9,
   "metadata": {
    "collapsed": false
   },
   "outputs": [
    {
     "name": "stdout",
     "output_type": "stream",
     "text": [
      "[8 3 3 ..., 0 3 2]\n"
     ]
    }
   ],
   "source": [
    "print k_means_pp.labels_"
   ]
  },
  {
   "cell_type": "code",
   "execution_count": 9,
   "metadata": {
    "collapsed": false
   },
   "outputs": [
    {
     "name": "stdout",
     "output_type": "stream",
     "text": [
      "[-31.73066151 -65.1087404 ]\n",
      "[  39.58330918  147.97804935]\n",
      "[  52.09134092 -158.52722403]\n",
      "[ 38.98763153  17.3943965 ]\n",
      "[ 14.05786667 -77.84953181]\n",
      "[  37.1864073  -117.70319383]\n",
      "[ 23.47615831  77.02286321]\n",
      "[ -16.90043758  161.76246176]\n",
      "[ -23.49484457 -175.85565554]\n",
      "[   1.75935816  123.0614514 ]\n"
     ]
    }
   ],
   "source": [
    "from scipy.spatial import distance\n",
    "from geopy.distance import vincenty\n",
    "for label in range(0,10):\n",
    "    print k_means_pp.cluster_centers_[label]"
   ]
  },
  {
   "cell_type": "code",
   "execution_count": 10,
   "metadata": {
    "collapsed": true
   },
   "outputs": [],
   "source": [
    "np.savetxt('catsearch1.csv', np.c_[datetimes, mags, latitudes, longitudes, k_means_pp.labels_], fmt='%s',delimiter=',',newline='\\n')"
   ]
  },
  {
   "cell_type": "code",
   "execution_count": null,
   "metadata": {
    "collapsed": true
   },
   "outputs": [],
   "source": []
  }
 ],
 "metadata": {
  "anaconda-cloud": {},
  "kernelspec": {
   "display_name": "Python 2",
   "language": "python",
   "name": "python2"
  },
  "language_info": {
   "codemirror_mode": {
    "name": "ipython",
    "version": 2
   },
   "file_extension": ".py",
   "mimetype": "text/x-python",
   "name": "python",
   "nbconvert_exporter": "python",
   "pygments_lexer": "ipython2",
   "version": "2.7.11"
  }
 },
 "nbformat": 4,
 "nbformat_minor": 0
}

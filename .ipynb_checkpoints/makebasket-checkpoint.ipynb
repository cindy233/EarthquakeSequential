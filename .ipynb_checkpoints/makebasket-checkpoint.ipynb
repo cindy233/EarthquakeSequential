{
 "cells": [
  {
   "cell_type": "code",
   "execution_count": 7,
   "metadata": {
    "collapsed": false
   },
   "outputs": [],
   "source": [
    "import numpy as np\n",
    "import pandas as pd\n",
    "import csv\n",
    "\n",
    "with open('2001volcanoes.csv', 'r') as book1:\n",
    "    with open('2001magbigger6.csv', 'r') as book2:\n",
    "        reader1 = csv.reader(book1, delimiter=',')\n",
    "        reader2 = csv.reader(book2, delimiter=',')\n",
    "\n",
    "        both = []\n",
    "        fields = reader1.next() # read header row\n",
    "        reader2.next() # read and ignore header row\n",
    "        for row1, row2 in zip(reader1, reader2):\n",
    "            \n",
    "            both.append(row2[-2])                        \n",
    "            both.append(row2[-1])\n",
    "            both.append(row1[-2])\n",
    "            both.append(row1[-1])\n",
    "\n",
    "        with open('output.csv', 'w') as output:\n",
    "            writer = csv.writer(output)\n",
    "            writer.writerows(both)"
   ]
  },
  {
   "cell_type": "code",
   "execution_count": null,
   "metadata": {
    "collapsed": true
   },
   "outputs": [],
   "source": []
  }
 ],
 "metadata": {
  "kernelspec": {
   "display_name": "Python 2",
   "language": "python",
   "name": "python2"
  },
  "language_info": {
   "codemirror_mode": {
    "name": "ipython",
    "version": 2
   },
   "file_extension": ".py",
   "mimetype": "text/x-python",
   "name": "python",
   "nbconvert_exporter": "python",
   "pygments_lexer": "ipython2",
   "version": "2.7.11"
  }
 },
 "nbformat": 4,
 "nbformat_minor": 0
}
